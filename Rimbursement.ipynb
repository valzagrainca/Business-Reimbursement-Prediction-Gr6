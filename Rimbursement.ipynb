{
 "cells": [
  {
   "cell_type": "markdown",
   "metadata": {},
   "source": [
    "Import necessary libraries."
   ]
  },
  {
   "cell_type": "code",
   "execution_count": 1,
   "metadata": {},
   "outputs": [],
   "source": [
    "import pandas as pd\n",
    "from matplotlib import pyplot as plt\n",
    "import numpy as np"
   ]
  },
  {
   "cell_type": "markdown",
   "metadata": {},
   "source": [
    "Read from excel files."
   ]
  },
  {
   "cell_type": "code",
   "execution_count": 2,
   "metadata": {},
   "outputs": [],
   "source": [
    "sheetname='OD_Rimbursimet.rdl'\n",
    "\n",
    "df_2023 = pd.read_excel(\"datasets/Rimbursimet-2023.xlsx\",sheet_name=sheetname,skiprows=5)\n",
    "\n",
    "df_2022 = pd.read_excel(\"datasets/Rimbursimet-2022.xlsx\",sheet_name=sheetname,skiprows=5)\n",
    "\n",
    "df_2021 = pd.read_excel(\"datasets/Rimbursimet-2021.xlsx\",sheet_name=sheetname,skiprows=5)\n",
    "\n",
    "df_2020 = pd.read_excel(\"datasets/Rimbursimet-2020.xlsx\",sheet_name=sheetname,skiprows=5)\n",
    "\n",
    "df_2019 = pd.read_excel(\"datasets/Rimbursimet-2019.xlsx\",sheet_name=sheetname,skiprows=5)"
   ]
  },
  {
   "cell_type": "markdown",
   "metadata": {},
   "source": [
    "Merge dataframes."
   ]
  },
  {
   "cell_type": "code",
   "execution_count": 3,
   "metadata": {},
   "outputs": [
    {
     "data": {
      "text/plain": [
       "Index(['Viti\\nGodina\\nYear', 'Muaji\\nMesec\\nMonth',\n",
       "       'Përshkrimi i Sektorit (Kryesor)\\nOpis (Glavnog) Sektora\\nDescription of (Primary) Sector',\n",
       "       'Unnamed: 3',\n",
       "       'Statusi i Regjistrimit\\nStatus Registracije\\nRegistration Status',\n",
       "       'Komuna\\nOpština\\nMunicipality',\n",
       "       'Numri i Kërkesave për Rimbursim\\nBroj zahteva za rimbursiju\\nNumber of Refund Requests',\n",
       "       'Vlerat e Kërkuara për Rimbursim\\nZahtevane vrednosti za rimbursiju\\nValues Requested for Refund',\n",
       "       'Numri i Kërkesave të Aprovuara për Rimbursim\\nBroj odobrenih zahteva za rimbursiju\\nNumber of Refund Requests Approved',\n",
       "       'Vlerat e Aprovuara të Rimbursimit\\nOdobrene vrednosti rimbursije\\nApproved Refund Values',\n",
       "       'Tatimpaguesve në kategorinë A\\nPoreski obveznici kategorije A\\nTaxpayers in category A',\n",
       "       'Tatimpaguesve në kategorinë B\\nPoreski obveznici kategorije B\\nTaxpayers in category B',\n",
       "       'Tatimpaguesve në kategorinë C\\nPoreski obveznici kategorije C\\nTaxpayers in category C',\n",
       "       'Mesatarja e Ditëve të Kthimit të Rimbursimeve\\nProsečni dani povrata za povraćaj sredstava\\nAverage Return Days for Refunds',\n",
       "       'Lloji i Formularit të Deklarimit\\nVrsta Obrasca Izjave\\nType of Declaration Form'],\n",
       "      dtype='object')"
      ]
     },
     "execution_count": 3,
     "metadata": {},
     "output_type": "execute_result"
    }
   ],
   "source": [
    "df = pd.concat([df_2023,df_2022,df_2021,df_2020,df_2019])\n",
    "df.columns"
   ]
  },
  {
   "cell_type": "markdown",
   "metadata": {},
   "source": [
    "Drop columns starting with 'unnamed'."
   ]
  },
  {
   "cell_type": "code",
   "execution_count": 4,
   "metadata": {},
   "outputs": [
    {
     "data": {
      "text/plain": [
       "Index(['Viti\\nGodina\\nYear', 'Muaji\\nMesec\\nMonth',\n",
       "       'Përshkrimi i Sektorit (Kryesor)\\nOpis (Glavnog) Sektora\\nDescription of (Primary) Sector',\n",
       "       'Statusi i Regjistrimit\\nStatus Registracije\\nRegistration Status',\n",
       "       'Komuna\\nOpština\\nMunicipality',\n",
       "       'Numri i Kërkesave për Rimbursim\\nBroj zahteva za rimbursiju\\nNumber of Refund Requests',\n",
       "       'Vlerat e Kërkuara për Rimbursim\\nZahtevane vrednosti za rimbursiju\\nValues Requested for Refund',\n",
       "       'Numri i Kërkesave të Aprovuara për Rimbursim\\nBroj odobrenih zahteva za rimbursiju\\nNumber of Refund Requests Approved',\n",
       "       'Vlerat e Aprovuara të Rimbursimit\\nOdobrene vrednosti rimbursije\\nApproved Refund Values',\n",
       "       'Tatimpaguesve në kategorinë A\\nPoreski obveznici kategorije A\\nTaxpayers in category A',\n",
       "       'Tatimpaguesve në kategorinë B\\nPoreski obveznici kategorije B\\nTaxpayers in category B',\n",
       "       'Tatimpaguesve në kategorinë C\\nPoreski obveznici kategorije C\\nTaxpayers in category C',\n",
       "       'Mesatarja e Ditëve të Kthimit të Rimbursimeve\\nProsečni dani povrata za povraćaj sredstava\\nAverage Return Days for Refunds',\n",
       "       'Lloji i Formularit të Deklarimit\\nVrsta Obrasca Izjave\\nType of Declaration Form'],\n",
       "      dtype='object')"
      ]
     },
     "execution_count": 4,
     "metadata": {},
     "output_type": "execute_result"
    }
   ],
   "source": [
    "df = df.loc[:, ~df.columns.str.startswith('Unnamed')]\n",
    "df.columns"
   ]
  },
  {
   "cell_type": "markdown",
   "metadata": {},
   "source": [
    "Rename columns."
   ]
  },
  {
   "cell_type": "code",
   "execution_count": 5,
   "metadata": {},
   "outputs": [
    {
     "data": {
      "text/plain": [
       "Index(['Viti', 'Muaji', 'Përshkrimi i Sektorit', 'Statusi', 'Komuna',\n",
       "       'Numri i Kërkesave', 'Vlera e Kërkura',\n",
       "       'Numri i Kërkesave të Aprovuara', 'Vlerat e Aprovuara',\n",
       "       'Tatimpaguesve në kategorinë A', 'Tatimpaguesve në kategorinë B',\n",
       "       'Tatimpaguesve në kategorinë C', 'Mesatarja e Ditëve të Kthimit',\n",
       "       'Lloji i Formularit të Deklarimit'],\n",
       "      dtype='object')"
      ]
     },
     "execution_count": 5,
     "metadata": {},
     "output_type": "execute_result"
    }
   ],
   "source": [
    "df = df.rename(columns={\n",
    "        'Viti\\nGodina\\nYear': 'Viti', \n",
    "        'Muaji\\nMesec\\nMonth':'Muaji',\n",
    "        'Përshkrimi i Sektorit (Kryesor)\\nOpis (Glavnog) Sektora\\nDescription of (Primary) Sector':'Përshkrimi i Sektorit',\n",
    "        'Statusi i Regjistrimit\\nStatus Registracije\\nRegistration Status':'Statusi',\n",
    "        'Komuna\\nOpština\\nMunicipality':'Komuna',\n",
    "        'Numri i Kërkesave për Rimbursim\\nBroj zahteva za rimbursiju\\nNumber of Refund Requests':'Numri i Kërkesave',\n",
    "        'Vlerat e Kërkuara për Rimbursim\\nZahtevane vrednosti za rimbursiju\\nValues Requested for Refund':'Vlera e Kërkura',\n",
    "        'Numri i Kërkesave të Aprovuara për Rimbursim\\nBroj odobrenih zahteva za rimbursiju\\nNumber of Refund Requests Approved':'Numri i Kërkesave të Aprovuara',\n",
    "        'Vlerat e Aprovuara të Rimbursimit\\nOdobrene vrednosti rimbursije\\nApproved Refund Values':'Vlerat e Aprovuara',\n",
    "        'Tatimpaguesve në kategorinë A\\nPoreski obveznici kategorije A\\nTaxpayers in category A':'Tatimpaguesve në kategorinë A',\n",
    "        'Tatimpaguesve në kategorinë B\\nPoreski obveznici kategorije B\\nTaxpayers in category B':'Tatimpaguesve në kategorinë B',\n",
    "        'Tatimpaguesve në kategorinë C\\nPoreski obveznici kategorije C\\nTaxpayers in category C':'Tatimpaguesve në kategorinë C',\n",
    "        'Mesatarja e Ditëve të Kthimit të Rimbursimeve\\nProsečni dani povrata za povraćaj sredstava\\nAverage Return Days for Refunds':'Mesatarja e Ditëve të Kthimit',\n",
    "        'Lloji i Formularit të Deklarimit\\nVrsta Obrasca Izjave\\nType of Declaration Form':'Lloji i Formularit të Deklarimit'\n",
    "})\n",
    "\n",
    "df.columns"
   ]
  },
  {
   "cell_type": "markdown",
   "metadata": {},
   "source": [
    "Check for null values."
   ]
  },
  {
   "cell_type": "code",
   "execution_count": 6,
   "metadata": {},
   "outputs": [
    {
     "data": {
      "text/plain": [
       "Viti                                0\n",
       "Muaji                               0\n",
       "Përshkrimi i Sektorit               0\n",
       "Statusi                             0\n",
       "Komuna                              0\n",
       "Numri i Kërkesave                   0\n",
       "Vlera e Kërkura                     0\n",
       "Numri i Kërkesave të Aprovuara      0\n",
       "Vlerat e Aprovuara                  0\n",
       "Tatimpaguesve në kategorinë A       0\n",
       "Tatimpaguesve në kategorinë B       0\n",
       "Tatimpaguesve në kategorinë C       0\n",
       "Mesatarja e Ditëve të Kthimit       0\n",
       "Lloji i Formularit të Deklarimit    0\n",
       "dtype: int64"
      ]
     },
     "execution_count": 6,
     "metadata": {},
     "output_type": "execute_result"
    }
   ],
   "source": [
    "df.isnull().sum()"
   ]
  },
  {
   "cell_type": "code",
   "execution_count": 7,
   "metadata": {},
   "outputs": [
    {
     "data": {
      "text/html": [
       "<div>\n",
       "<style scoped>\n",
       "    .dataframe tbody tr th:only-of-type {\n",
       "        vertical-align: middle;\n",
       "    }\n",
       "\n",
       "    .dataframe tbody tr th {\n",
       "        vertical-align: top;\n",
       "    }\n",
       "\n",
       "    .dataframe thead th {\n",
       "        text-align: right;\n",
       "    }\n",
       "</style>\n",
       "<table border=\"1\" class=\"dataframe\">\n",
       "  <thead>\n",
       "    <tr style=\"text-align: right;\">\n",
       "      <th></th>\n",
       "      <th>Viti</th>\n",
       "      <th>Muaji</th>\n",
       "      <th>Përshkrimi i Sektorit</th>\n",
       "      <th>Statusi</th>\n",
       "      <th>Komuna</th>\n",
       "      <th>Numri i Kërkesave</th>\n",
       "      <th>Vlera e Kërkura</th>\n",
       "      <th>Numri i Kërkesave të Aprovuara</th>\n",
       "      <th>Vlerat e Aprovuara</th>\n",
       "      <th>Tatimpaguesve në kategorinë A</th>\n",
       "      <th>Tatimpaguesve në kategorinë B</th>\n",
       "      <th>Tatimpaguesve në kategorinë C</th>\n",
       "      <th>Mesatarja e Ditëve të Kthimit</th>\n",
       "      <th>Lloji i Formularit të Deklarimit</th>\n",
       "    </tr>\n",
       "  </thead>\n",
       "  <tbody>\n",
       "    <tr>\n",
       "      <th>0</th>\n",
       "      <td>2023</td>\n",
       "      <td>1</td>\n",
       "      <td>Bujqesia;Pylltaria dhe Peshkimi</td>\n",
       "      <td>SH.P.K.</td>\n",
       "      <td>DEÇAN</td>\n",
       "      <td>1</td>\n",
       "      <td>32690.41</td>\n",
       "      <td>0</td>\n",
       "      <td>0.0</td>\n",
       "      <td>0</td>\n",
       "      <td>1</td>\n",
       "      <td>0</td>\n",
       "      <td>14.6968</td>\n",
       "      <td>VALUE-ADDED TAX DECLARATION FORM</td>\n",
       "    </tr>\n",
       "    <tr>\n",
       "      <th>1</th>\n",
       "      <td>2023</td>\n",
       "      <td>1</td>\n",
       "      <td>Bujqesia;Pylltaria dhe Peshkimi</td>\n",
       "      <td>SH.P.K.</td>\n",
       "      <td>FERIZAJ</td>\n",
       "      <td>1</td>\n",
       "      <td>23500.00</td>\n",
       "      <td>0</td>\n",
       "      <td>0.0</td>\n",
       "      <td>0</td>\n",
       "      <td>1</td>\n",
       "      <td>0</td>\n",
       "      <td>33.2524</td>\n",
       "      <td>VALUE-ADDED TAX DECLARATION FORM</td>\n",
       "    </tr>\n",
       "    <tr>\n",
       "      <th>2</th>\n",
       "      <td>2023</td>\n",
       "      <td>1</td>\n",
       "      <td>Bujqesia;Pylltaria dhe Peshkimi</td>\n",
       "      <td>SH.P.K.</td>\n",
       "      <td>PODUJEVË</td>\n",
       "      <td>1</td>\n",
       "      <td>58500.00</td>\n",
       "      <td>0</td>\n",
       "      <td>0.0</td>\n",
       "      <td>1</td>\n",
       "      <td>0</td>\n",
       "      <td>0</td>\n",
       "      <td>18.9731</td>\n",
       "      <td>VALUE-ADDED TAX DECLARATION FORM</td>\n",
       "    </tr>\n",
       "    <tr>\n",
       "      <th>3</th>\n",
       "      <td>2023</td>\n",
       "      <td>1</td>\n",
       "      <td>Bujqesia;Pylltaria dhe Peshkimi</td>\n",
       "      <td>SH.P.K.</td>\n",
       "      <td>SHTËRPCË</td>\n",
       "      <td>1</td>\n",
       "      <td>83000.00</td>\n",
       "      <td>0</td>\n",
       "      <td>0.0</td>\n",
       "      <td>1</td>\n",
       "      <td>0</td>\n",
       "      <td>0</td>\n",
       "      <td>24.7561</td>\n",
       "      <td>VALUE-ADDED TAX DECLARATION FORM</td>\n",
       "    </tr>\n",
       "    <tr>\n",
       "      <th>4</th>\n",
       "      <td>2023</td>\n",
       "      <td>1</td>\n",
       "      <td>Bujqesia;Pylltaria dhe Peshkimi</td>\n",
       "      <td>SH.P.K.</td>\n",
       "      <td>GRAÇANICË</td>\n",
       "      <td>1</td>\n",
       "      <td>38400.00</td>\n",
       "      <td>0</td>\n",
       "      <td>0.0</td>\n",
       "      <td>1</td>\n",
       "      <td>0</td>\n",
       "      <td>0</td>\n",
       "      <td>16.1147</td>\n",
       "      <td>VALUE-ADDED TAX DECLARATION FORM</td>\n",
       "    </tr>\n",
       "  </tbody>\n",
       "</table>\n",
       "</div>"
      ],
      "text/plain": [
       "   Viti  Muaji            Përshkrimi i Sektorit  Statusi     Komuna  \\\n",
       "0  2023      1  Bujqesia;Pylltaria dhe Peshkimi  SH.P.K.      DEÇAN   \n",
       "1  2023      1  Bujqesia;Pylltaria dhe Peshkimi  SH.P.K.    FERIZAJ   \n",
       "2  2023      1  Bujqesia;Pylltaria dhe Peshkimi  SH.P.K.   PODUJEVË   \n",
       "3  2023      1  Bujqesia;Pylltaria dhe Peshkimi  SH.P.K.   SHTËRPCË   \n",
       "4  2023      1  Bujqesia;Pylltaria dhe Peshkimi  SH.P.K.  GRAÇANICË   \n",
       "\n",
       "   Numri i Kërkesave  Vlera e Kërkura  Numri i Kërkesave të Aprovuara  \\\n",
       "0                  1         32690.41                               0   \n",
       "1                  1         23500.00                               0   \n",
       "2                  1         58500.00                               0   \n",
       "3                  1         83000.00                               0   \n",
       "4                  1         38400.00                               0   \n",
       "\n",
       "   Vlerat e Aprovuara  Tatimpaguesve në kategorinë A  \\\n",
       "0                 0.0                              0   \n",
       "1                 0.0                              0   \n",
       "2                 0.0                              1   \n",
       "3                 0.0                              1   \n",
       "4                 0.0                              1   \n",
       "\n",
       "   Tatimpaguesve në kategorinë B  Tatimpaguesve në kategorinë C  \\\n",
       "0                              1                              0   \n",
       "1                              1                              0   \n",
       "2                              0                              0   \n",
       "3                              0                              0   \n",
       "4                              0                              0   \n",
       "\n",
       "   Mesatarja e Ditëve të Kthimit  Lloji i Formularit të Deklarimit  \n",
       "0                        14.6968  VALUE-ADDED TAX DECLARATION FORM  \n",
       "1                        33.2524  VALUE-ADDED TAX DECLARATION FORM  \n",
       "2                        18.9731  VALUE-ADDED TAX DECLARATION FORM  \n",
       "3                        24.7561  VALUE-ADDED TAX DECLARATION FORM  \n",
       "4                        16.1147  VALUE-ADDED TAX DECLARATION FORM  "
      ]
     },
     "execution_count": 7,
     "metadata": {},
     "output_type": "execute_result"
    }
   ],
   "source": [
    "df.head(5)"
   ]
  },
  {
   "cell_type": "markdown",
   "metadata": {},
   "source": [
    "Remove rows where 'Vlera e Kërkura' is 0, since there is no chance to make an rimburisement request with 0 amount."
   ]
  },
  {
   "cell_type": "code",
   "execution_count": 8,
   "metadata": {},
   "outputs": [],
   "source": [
    "df = df[df['Vlera e Kërkura'] != 0]"
   ]
  },
  {
   "cell_type": "markdown",
   "metadata": {},
   "source": [
    "We identify as outliers values where 'Vlerat e Aprovuara' are grater then 'Vlerat e Kërkura', and remove them."
   ]
  },
  {
   "cell_type": "code",
   "execution_count": 9,
   "metadata": {},
   "outputs": [
    {
     "data": {
      "image/png": "[encoded data removed]",
      "text/plain": [
       "<Figure size 800x600 with 1 Axes>"
      ]
     },
     "metadata": {},
     "output_type": "display_data"
    }
   ],
   "source": [
    "# Filter outliers where 'Vlerat e Aprovuara' > 'Vlera e Kërkura'\n",
    "outliers_greater_than_vlera_kerkura = df[df['Vlerat e Aprovuara'] > df['Vlera e Kërkura']]\n",
    "\n",
    "plt.figure(figsize=(8, 6))\n",
    "\n",
    "plt.scatter(df.index, df['Vlerat e Aprovuara'], label='Vlerat e Aprovuara')\n",
    "plt.scatter(outliers_greater_than_vlera_kerkura.index, outliers_greater_than_vlera_kerkura['Vlerat e Aprovuara'], color='red', label='Outliers')\n",
    "plt.title('Outliers where Vlerat e Aprovuara > Vlera e Kërkura')\n",
    "plt.xlabel('Index')\n",
    "plt.ylabel('Vlerat e Aprovuara')\n",
    "plt.legend()\n",
    "\n",
    "plt.show()\n",
    "\n",
    "df = df[df['Vlerat e Aprovuara'] <= df['Vlera e Kërkura']]"
   ]
  }
 ],
 "metadata": {
  "kernelspec": {
   "display_name": "Python 3",
   "language": "python",
   "name": "python3"
  },
  "language_info": {
   "codemirror_mode": {
    "name": "ipython",
    "version": 3
   },
   "file_extension": ".py",
   "mimetype": "text/x-python",
   "name": "python",
   "nbconvert_exporter": "python",
   "pygments_lexer": "ipython3",
   "version": "3.12.1"
  }
 },
 "nbformat": 4,
 "nbformat_minor": 2
}
